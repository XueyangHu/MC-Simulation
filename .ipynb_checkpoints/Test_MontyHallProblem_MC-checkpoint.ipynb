{
 "cells": [
  {
   "cell_type": "markdown",
   "metadata": {},
   "source": [
    "# MC for the Monty Hall problem\n",
    "num_mc: number of mc iteration; n: number of doors / choices"
   ]
  },
  {
   "cell_type": "code",
   "execution_count": 1,
   "metadata": {
    "scrolled": true
   },
   "outputs": [],
   "source": [
    "import MontyHallProblem_MC as MH"
   ]
  },
  {
   "cell_type": "code",
   "execution_count": 2,
   "metadata": {},
   "outputs": [
    {
     "name": "stdout",
     "output_type": "stream",
     "text": [
      "n=100, [0.29, 0.71]\n",
      "n=500, [0.356, 0.644]\n",
      "n=1000, [0.303, 0.697]\n",
      "n=2000, [0.322, 0.678]\n",
      "n=5000, [0.336, 0.664]\n",
      "n=10000, [0.3395, 0.6605]\n"
     ]
    }
   ],
   "source": [
    "# output: [p1, p2] where p1 is the prob of winning for the first choice, and p2 is the prob of winning with a changed mind\n",
    "for num_mc in [100, 500, 1000, 2000, 5000, 10000]:\n",
    "    print('n=' + str(num_mc) + ', ' + str(MH.monty_hall_prob(num_mc=num_mc)))  # n=3 by default"
   ]
  },
  {
   "cell_type": "code",
   "execution_count": 3,
   "metadata": {},
   "outputs": [
    {
     "name": "stdout",
     "output_type": "stream",
     "text": [
      "n=100, [0.17, 0.22]\n",
      "n=500, [0.22, 0.282]\n",
      "n=1000, [0.185, 0.271]\n",
      "n=2000, [0.2045, 0.2565]\n",
      "n=5000, [0.193, 0.2662]\n",
      "n=10000, [0.1958, 0.268]\n"
     ]
    }
   ],
   "source": [
    "for num_mc in [100, 500, 1000, 2000, 5000, 10000]:\n",
    "    print('n=' + str(num_mc) + ', ' + str(MH.monty_hall_prob(n=5, num_mc=num_mc)))  # set n=5"
   ]
  },
  {
   "cell_type": "code",
   "execution_count": 4,
   "metadata": {},
   "outputs": [
    {
     "name": "stdout",
     "output_type": "stream",
     "text": [
      "n=100, [0.1, 0.09]\n",
      "n=500, [0.114, 0.098]\n",
      "n=1000, [0.107, 0.108]\n",
      "n=2000, [0.1095, 0.123]\n",
      "n=5000, [0.1088, 0.1176]\n",
      "n=10000, [0.106, 0.1141]\n"
     ]
    }
   ],
   "source": [
    "for num_mc in [100, 500, 1000, 2000, 5000, 10000]:\n",
    "    print('n=' + str(num_mc) + ', ' + str(MH.monty_hall_prob(n=10, num_mc=num_mc)))  # set n=10"
   ]
  },
  {
   "cell_type": "code",
   "execution_count": null,
   "metadata": {},
   "outputs": [],
   "source": []
  }
 ],
 "metadata": {
  "kernelspec": {
   "display_name": "Python 3",
   "language": "python",
   "name": "python3"
  },
  "language_info": {
   "codemirror_mode": {
    "name": "ipython",
    "version": 3
   },
   "file_extension": ".py",
   "mimetype": "text/x-python",
   "name": "python",
   "nbconvert_exporter": "python",
   "pygments_lexer": "ipython3",
   "version": "3.7.4"
  }
 },
 "nbformat": 4,
 "nbformat_minor": 2
}
